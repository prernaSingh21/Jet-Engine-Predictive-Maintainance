{
 "cells": [
  {
   "cell_type": "code",
   "execution_count": 1,
   "metadata": {},
   "outputs": [
    {
     "ename": "ModuleNotFoundError",
     "evalue": "No module named 'seaborn'",
     "output_type": "error",
     "traceback": [
      "\u001b[1;31m---------------------------------------------------------------------------\u001b[0m",
      "\u001b[1;31mModuleNotFoundError\u001b[0m                       Traceback (most recent call last)",
      "Cell \u001b[1;32mIn[1], line 4\u001b[0m\n\u001b[0;32m      2\u001b[0m \u001b[38;5;28;01mimport\u001b[39;00m \u001b[38;5;21;01mcsv\u001b[39;00m\n\u001b[0;32m      3\u001b[0m \u001b[38;5;28;01mimport\u001b[39;00m \u001b[38;5;21;01mmatplotlib\u001b[39;00m\u001b[38;5;21;01m.\u001b[39;00m\u001b[38;5;21;01mpyplot\u001b[39;00m \u001b[38;5;28;01mas\u001b[39;00m \u001b[38;5;21;01mplt\u001b[39;00m\n\u001b[1;32m----> 4\u001b[0m \u001b[38;5;28;01mimport\u001b[39;00m \u001b[38;5;21;01mseaborn\u001b[39;00m \u001b[38;5;28;01mas\u001b[39;00m \u001b[38;5;21;01msns\u001b[39;00m\n\u001b[0;32m      5\u001b[0m \u001b[38;5;28;01mimport\u001b[39;00m \u001b[38;5;21;01mlogging\u001b[39;00m\n\u001b[0;32m      7\u001b[0m \u001b[38;5;28;01mimport\u001b[39;00m \u001b[38;5;21;01mgradio\u001b[39;00m \u001b[38;5;28;01mas\u001b[39;00m \u001b[38;5;21;01mgr\u001b[39;00m\n",
      "\u001b[1;31mModuleNotFoundError\u001b[0m: No module named 'seaborn'"
     ]
    }
   ],
   "source": [
    "import pandas as pd\n",
    "import csv\n",
    "import matplotlib.pyplot as plt\n",
    "import seaborn as sns\n",
    "import logging\n",
    "\n",
    "import gradio as gr\n",
    "\n",
    "#regression\n",
    "from sklearn.linear_model import LinearRegression, Ridge, BayesianRidge, HuberRegressor, Lasso\n",
    "from sklearn.metrics import make_scorer, mean_squared_error,confusion_matrix,accuracy_score\n",
    "from sklearn.ensemble import BaggingRegressor, RandomForestRegressor, AdaBoostRegressor\n",
    "from sklearn.svm import SVR  \n",
    "from sklearn.tree import DecisionTreeRegressor\n",
    "from sklearn.neural_network import MLPRegressor\n",
    "from sklearn.svm import SVR\n",
    "from sklearn.model_selection import GridSearchCV \n",
    "\n",
    "#Classification\n",
    "from sklearn.metrics import make_scorer, accuracy_score\n",
    "from sklearn.neighbors import KNeighborsClassifier\n",
    "from sklearn.svm import SVC\n",
    "from sklearn.neural_network import MLPClassifier\n",
    "from sklearn.tree import DecisionTreeClassifier\n",
    "from sklearn.ensemble import RandomForestClassifier, AdaBoostClassifier\n",
    "from sklearn.naive_bayes import GaussianNB\n",
    "from sklearn.discriminant_analysis import QuadraticDiscriminantAnalysis\n",
    "from sklearn.linear_model import LogisticRegression"
   ]
  },
  {
   "cell_type": "code",
   "execution_count": null,
   "metadata": {},
   "outputs": [],
   "source": [
    "#logger\n",
    "logging.basicConfig(filename='logs.log', level=logging.INFO,format='%(asctime)s :: %(levelname)s :: %(message)s')"
   ]
  },
  {
   "cell_type": "markdown",
   "metadata": {},
   "source": [
    "### Data Exploration"
   ]
  },
  {
   "cell_type": "code",
   "execution_count": null,
   "metadata": {},
   "outputs": [],
   "source": [
    "#reading and labeling data\n",
    "def DataReading(filename):\n",
    "    data=pd.read_csv(filename, sep=\" \", header=None)\n",
    "    # columns list\n",
    "    COLS = [\"ID\", \"Cycle\", \"OpSet1\", \"OpSet2\", \"OpSet3\", \"SensorMeasure1\", \"SensorMeasure2\", \"SensorMeasure3\", \"SensorMeasure4\",\n",
    "                \"SensorMeasure5\", \"SensorMeasure6\", \"SensorMeasure7\", \"SensorMeasure8\", \"SensorMeasure9\", \"SensorMeasure10\", \"SensorMeasure11\",\n",
    "                \"SensorMeasure12\", \"SensorMeasure13\", \"SensorMeasure14\", \"SensorMeasure15\", \"SensorMeasure16\",\n",
    "                \"SensorMeasure17\", \"SensorMeasure18\", \"SensorMeasure19\", \"SensorMeasure20\", \"SensorMeasure21\"]\n",
    "    data =data[[f for f in range(0, 26)]]\n",
    "    data.columns = [\"ID\", \"Cycle\", \"OpSet1\", \"OpSet2\", \"OpSet3\", \"SensorMeasure1\", \"SensorMeasure2\", \"SensorMeasure3\", \"SensorMeasure4\",\n",
    "                \"SensorMeasure5\", \"SensorMeasure6\", \"SensorMeasure7\", \"SensorMeasure8\", \"SensorMeasure9\", \"SensorMeasure10\", \"SensorMeasure11\",\n",
    "                \"SensorMeasure12\", \"SensorMeasure13\", \"SensorMeasure14\", \"SensorMeasure15\", \"SensorMeasure16\",\n",
    "                \"SensorMeasure17\", \"SensorMeasure18\", \"SensorMeasure19\", \"SensorMeasure20\", \"SensorMeasure21\"]\n",
    "    return data\n",
    "    \n",
    "\n",
    "\n",
    "\n",
    "#train data\n",
    "train_data=DataReading(\"data set/aero/train_FD001.txt\")\n",
    "\n",
    "#test data\n",
    "test_data=DataReading(\"data set/aero/test_FD001.txt\")\n",
    "\n",
    "logging.info(\"Training and Test Data Collection and labeling complete\")\n"
   ]
  },
  {
   "cell_type": "code",
   "execution_count": null,
   "metadata": {},
   "outputs": [],
   "source": []
  },
  {
   "cell_type": "code",
   "execution_count": null,
   "metadata": {},
   "outputs": [],
   "source": [
    "# reading Rul of last cycle of each engin for test data\n",
    "#reading data train data\n",
    "\n",
    "Rul_data=pd.read_csv(\"data set/aero/RUL_FD001.txt\", sep=\" \", header=None)\n",
    "Rul_data[\"ID\"] = Rul_data.index + 1\n",
    "Rul_data=Rul_data.rename(columns={0:\"RUL\"}).drop(1,axis=1)\n",
    "Rul_data\n",
    "logging.info(\"Remaining Usefull life of Test Data set reading/Loading complete\")"
   ]
  },
  {
   "cell_type": "markdown",
   "metadata": {},
   "source": [
    "THIS THE RUL OF LAST CYCLE OF DIFFRENT ENGINS OF TEST DATA"
   ]
  },
  {
   "cell_type": "markdown",
   "metadata": {},
   "source": [
    "### Preprocessing"
   ]
  },
  {
   "cell_type": "code",
   "execution_count": null,
   "metadata": {},
   "outputs": [],
   "source": [
    "# maximun number of engines cycle in train data\n",
    "max_cycles_df_train = train_data.groupby([\"ID\"], sort=False)[\"Cycle\"].max().reset_index().rename(columns={\"Cycle\" : \"MaxCycleID\"})\n",
    "max_cycles_df_train\n",
    "\n",
    "\n",
    "\n",
    "# Calculating RUL form the max_cycles_df in train data\n",
    "train_data = pd.merge(train_data, max_cycles_df_train, how=\"inner\", on=\"ID\")\n",
    "train_data[\"RUL\"] = train_data[\"MaxCycleID\"] - train_data[\"Cycle\"]\n",
    "train_data.drop('MaxCycleID',inplace=True, axis=1)\n",
    "train_data.head()\n",
    "\n",
    "#coverting into binary Rul \n",
    "# 1 for okay\n",
    "# 0 for not Okay\n",
    "binary_RUL=train_data['RUL'].map(lambda x: 1 if x>=20 else 0)\n",
    "train_data['Binary_RUL']=binary_RUL\n",
    "pro_train_data=train_data\n",
    "pro_train_data\n",
    "logging.info(\"Training Data Set RUL Calculation and Binary coversion of RUL complete\")"
   ]
  },
  {
   "cell_type": "code",
   "execution_count": null,
   "metadata": {},
   "outputs": [],
   "source": [
    "# maximun number of engines cycle in test data\n",
    "max_cycles_df_test = test_data.copy(deep=True).groupby(['ID'])[\"Cycle\"].max().reset_index()\n",
    "max_cycles_df_test\n",
    "\n",
    "test_data = pd.merge(test_data, max_cycles_df_test, how=\"inner\", on=[\"ID\",'Cycle'])\n",
    "test_data[\"RUL\"]=Rul_data[\"RUL\"]\n",
    "\n",
    "#coverting into binary Rul \n",
    "# 1 for okay\n",
    "# 0 for not Okay\n",
    "binary_RUL=test_data['RUL'].map(lambda x: 1 if x>=20 else 0)\n",
    "test_data['Binary_RUL']=binary_RUL\n",
    "pro_test_data=test_data\n",
    "logging.info(\"Testing Data Set Binary coversion of RUL complete\")\n",
    "pro_test_data"
   ]
  },
  {
   "cell_type": "code",
   "execution_count": null,
   "metadata": {},
   "outputs": [],
   "source": [
    "pd.set_option('display.max_columns', None)\n",
    "pro_test_data"
   ]
  },
  {
   "cell_type": "markdown",
   "metadata": {},
   "source": [
    "From the above graphs we can see that opset3 ,SensorMeasure 1,5,6,10,16,18,19 are constant for diffrent RULs.\n",
    "so these features will not be use full for the training."
   ]
  }
 ],
 "metadata": {
  "kernelspec": {
   "display_name": "Python 3 (ipykernel)",
   "language": "python",
   "name": "python3"
  },
  "language_info": {
   "codemirror_mode": {
    "name": "ipython",
    "version": 3
   },
   "file_extension": ".py",
   "mimetype": "text/x-python",
   "name": "python",
   "nbconvert_exporter": "python",
   "pygments_lexer": "ipython3",
   "version": "3.11.2"
  }
 },
 "nbformat": 4,
 "nbformat_minor": 4
}
